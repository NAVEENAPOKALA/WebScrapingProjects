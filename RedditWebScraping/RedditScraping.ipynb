{
 "cells": [
  {
   "cell_type": "markdown",
   "id": "a6f8ba3f",
   "metadata": {},
   "source": [
    "# RedditWebScraping\n",
    "\n",
    "TODO :\n",
    "\n",
    "-- Problem Statement : Scraping the tops communities in all categories on Reddit web page\n",
    "\n",
    "-- Tools Used : Selenium, Beautiful Soup, Python, Pandas\n",
    "\n",
    "-- Request you to go through the readme file for more clarification\n"
   ]
  },
  {
   "cell_type": "markdown",
   "id": "48429d4b",
   "metadata": {},
   "source": [
    "### Importing the Required Libraries"
   ]
  },
  {
   "cell_type": "code",
   "execution_count": 25,
   "id": "a3994388",
   "metadata": {},
   "outputs": [],
   "source": [
    "import requests"
   ]
  },
  {
   "cell_type": "code",
   "execution_count": 26,
   "id": "daea258d",
   "metadata": {},
   "outputs": [],
   "source": [
    "home_url=\"https://www.reddit.com\""
   ]
  },
  {
   "cell_type": "code",
   "execution_count": 27,
   "id": "aa54bc7c",
   "metadata": {},
   "outputs": [],
   "source": [
    "response=requests.get(home_url)"
   ]
  },
  {
   "cell_type": "code",
   "execution_count": 28,
   "id": "c2f72e31",
   "metadata": {},
   "outputs": [
    {
     "data": {
      "text/plain": [
       "200"
      ]
     },
     "execution_count": 28,
     "metadata": {},
     "output_type": "execute_result"
    }
   ],
   "source": [
    "response.status_code"
   ]
  },
  {
   "cell_type": "code",
   "execution_count": 29,
   "id": "c8f572f6",
   "metadata": {},
   "outputs": [],
   "source": [
    "page_contents=response.text"
   ]
  },
  {
   "cell_type": "code",
   "execution_count": 68,
   "id": "642363a0",
   "metadata": {},
   "outputs": [],
   "source": [
    "with open('redditpage.html','w',encoding='utf-8') as f:\n",
    "    f.write(page_contents)"
   ]
  },
  {
   "cell_type": "markdown",
   "id": "e653cc74",
   "metadata": {},
   "source": [
    "### Above request library is not fetching the entire html page, so using selenium web driver."
   ]
  },
  {
   "cell_type": "code",
   "execution_count": 1,
   "id": "04776b6f",
   "metadata": {},
   "outputs": [],
   "source": [
    "import pandas as pd"
   ]
  },
  {
   "cell_type": "code",
   "execution_count": 2,
   "id": "16fe5440",
   "metadata": {},
   "outputs": [],
   "source": [
    "from bs4 import BeautifulSoup"
   ]
  },
  {
   "cell_type": "code",
   "execution_count": 3,
   "id": "06791ed9",
   "metadata": {},
   "outputs": [],
   "source": [
    "from selenium import webdriver"
   ]
  },
  {
   "cell_type": "code",
   "execution_count": 4,
   "id": "cfb6b48f",
   "metadata": {},
   "outputs": [],
   "source": [
    " driver = webdriver.Chrome()"
   ]
  },
  {
   "cell_type": "code",
   "execution_count": 5,
   "id": "698555ba",
   "metadata": {},
   "outputs": [],
   "source": [
    "home_url=\"https://www.reddit.com\""
   ]
  },
  {
   "cell_type": "code",
   "execution_count": 6,
   "id": "557bab28",
   "metadata": {},
   "outputs": [],
   "source": [
    "driver.get(home_url)"
   ]
  },
  {
   "cell_type": "code",
   "execution_count": 7,
   "id": "fc384052",
   "metadata": {},
   "outputs": [],
   "source": [
    "contents = BeautifulSoup(driver.page_source, 'html.parser')"
   ]
  },
  {
   "cell_type": "code",
   "execution_count": 8,
   "id": "6a79a1a1",
   "metadata": {},
   "outputs": [],
   "source": [
    "with open('redditpage.html','w',encoding='utf-8') as f:\n",
    "    f.write(str(contents))"
   ]
  },
  {
   "cell_type": "markdown",
   "id": "6110576c",
   "metadata": {},
   "source": [
    "### Function Declarations"
   ]
  },
  {
   "cell_type": "code",
   "execution_count": 8,
   "id": "08daeb50",
   "metadata": {},
   "outputs": [],
   "source": [
    "def get_inner_div_tags(outer_div_tags):\n",
    "    inner_tags=[]\n",
    "    for outer_div_tag in outer_div_tags:\n",
    "        inner_tag=outer_div_tag.find_all('div',{'class':'_2mHuuvyV9doV3zwbZPtIPG'})\n",
    "        #inner_tags.append(inner_tag)\n",
    "        inner_tags=inner_tags+inner_tag\n",
    "    return inner_tags"
   ]
  },
  {
   "cell_type": "code",
   "execution_count": 9,
   "id": "342bf0ff",
   "metadata": {},
   "outputs": [],
   "source": [
    "def get_a_tags(inner_div_tag):\n",
    "    a_tags=[]\n",
    "    for div_tag in inner_div_tag:\n",
    "        a_tag=div_tag.find_all('a',{'class':'_13rO9T2auFedwF7O7V72O6'})\n",
    "        #a_tags.append(a_tag)\n",
    "        a_tags=a_tags+a_tag\n",
    "    return a_tags"
   ]
  },
  {
   "cell_type": "code",
   "execution_count": 10,
   "id": "69573df3",
   "metadata": {},
   "outputs": [],
   "source": [
    "def get_topic_details(a_tags):\n",
    "    names=[]\n",
    "    urls=[]\n",
    "    for topic_detail in a_tags:\n",
    "        names.append(topic_detail['title'])\n",
    "        urls.append(home_url+topic_detail['href'])\n",
    "    return names,urls"
   ]
  },
  {
   "cell_type": "code",
   "execution_count": 11,
   "id": "3edb82e0",
   "metadata": {},
   "outputs": [],
   "source": [
    "def get_topic_infos(urls):\n",
    "    desc=[]\n",
    "    mem=[]\n",
    "    online=[]\n",
    "    date=[]\n",
    "    for url in urls:\n",
    "        driver.get(url)\n",
    "        content = BeautifulSoup(driver.page_source, 'html.parser')\n",
    "        info_tag=content.find('div',{'class':'TmgZY6tDcdErbE5d7E0HJ'})\n",
    "        topicdesc,topicmem,topiconline,topicdate=get_topic_info(info_tag)\n",
    "        desc.append(topicdesc)\n",
    "        mem.append(topicmem)\n",
    "        online.append(topiconline)\n",
    "        date.append(topicdate[8:len(topicdate)])\n",
    "    return desc,mem,online,date"
   ]
  },
  {
   "cell_type": "code",
   "execution_count": 20,
   "id": "74e1f0ad",
   "metadata": {},
   "outputs": [],
   "source": [
    "def get_topic_info(info_tag):\n",
    "    if(info_tag):\n",
    "        des=info_tag.find('div',{'class':'_1zPvgKHteTOub9dKkvrOl4'})\n",
    "        if(des):\n",
    "            topic_desc=des.text\n",
    "        else:\n",
    "            topic_desc=''\n",
    "        #Getting the followers\n",
    "        members=info_tag.find('div',{'class':'nEdqRRzLEN43xauwtgTmj'})\n",
    "        if(members):\n",
    "            mem=members.find('div',{'class':'_3XFx6CfPlg-4Usgxm0gK8R'})\n",
    "            if(mem):\n",
    "                topic_mem=mem.text\n",
    "            else:\n",
    "                topic_mem=''\n",
    "        else:\n",
    "            topic_mem=''\n",
    "        #Getting the online\n",
    "        onlines=info_tag.find('div',{'class':'_3_HlHJ56dAfStT19Jgl1bF'})\n",
    "        if(onlines):\n",
    "            onl=onlines.find('div',{'class':'_3XFx6CfPlg-4Usgxm0gK8R'})\n",
    "            if(onl):\n",
    "                topic_onl=onl.text\n",
    "            else:\n",
    "                topic_onl=''\n",
    "        else:\n",
    "            topic_onl=''\n",
    "        #Getting the creation date\n",
    "        date=info_tag.find('div',{'class':'_2QZ7T4uAFMs_N83BZcN-Em'})\n",
    "        if(date):\n",
    "            topic_date=date.text\n",
    "        else:\n",
    "            topic_date=''\n",
    "    else:\n",
    "        topic_desc=''\n",
    "        topic_mem=''\n",
    "        topic_onl=''\n",
    "        topic_date=''\n",
    "        return topic_desc,topic_mem,topic_onl,topic_date\n",
    "    return topic_desc,topic_mem,topic_onl,topic_date"
   ]
  },
  {
   "cell_type": "markdown",
   "id": "4c0ae8cf",
   "metadata": {},
   "source": [
    "### Scraping the topics details like topic names, topic urls"
   ]
  },
  {
   "cell_type": "code",
   "execution_count": 13,
   "id": "10fb2158",
   "metadata": {},
   "outputs": [],
   "source": [
    "outer_div_tags=(contents.find_all('div',{'class':'_2jmnnhuP2AL87nZM3exPTR'}))"
   ]
  },
  {
   "cell_type": "code",
   "execution_count": 14,
   "id": "4e0f5c6d",
   "metadata": {},
   "outputs": [],
   "source": [
    "inner_div_tags=get_inner_div_tags(outer_div_tags)"
   ]
  },
  {
   "cell_type": "code",
   "execution_count": 15,
   "id": "6f6c4738",
   "metadata": {},
   "outputs": [],
   "source": [
    "total_a_tags=get_a_tags(inner_div_tags)"
   ]
  },
  {
   "cell_type": "code",
   "execution_count": 16,
   "id": "a1f5f874",
   "metadata": {},
   "outputs": [],
   "source": [
    "topic_names,urls=get_topic_details(total_a_tags)"
   ]
  },
  {
   "cell_type": "markdown",
   "id": "0544d75d",
   "metadata": {},
   "source": [
    "### Getting the topic info"
   ]
  },
  {
   "cell_type": "code",
   "execution_count": 21,
   "id": "b6aa2a21",
   "metadata": {},
   "outputs": [],
   "source": [
    "topic_description,topic_members,topic_online,topic_createddate=get_topic_infos(urls)"
   ]
  },
  {
   "cell_type": "markdown",
   "id": "2197a38c",
   "metadata": {},
   "source": [
    "### Creating a dataframe"
   ]
  },
  {
   "cell_type": "code",
   "execution_count": 22,
   "id": "e3005162",
   "metadata": {},
   "outputs": [],
   "source": [
    "data={'Topic Names':topic_names,\n",
    "      'Topic Urls':urls,\n",
    "      'Topic Description':topic_description,\n",
    "      'Followers':topic_members,\n",
    "      'Active':topic_online,\n",
    "      'Created Date':topic_createddate}"
   ]
  },
  {
   "cell_type": "code",
   "execution_count": 23,
   "id": "7894d933",
   "metadata": {},
   "outputs": [],
   "source": [
    "df=pd.DataFrame(data)"
   ]
  },
  {
   "cell_type": "code",
   "execution_count": 24,
   "id": "c3f586a4",
   "metadata": {},
   "outputs": [
    {
     "data": {
      "text/html": [
       "<div>\n",
       "<style scoped>\n",
       "    .dataframe tbody tr th:only-of-type {\n",
       "        vertical-align: middle;\n",
       "    }\n",
       "\n",
       "    .dataframe tbody tr th {\n",
       "        vertical-align: top;\n",
       "    }\n",
       "\n",
       "    .dataframe thead th {\n",
       "        text-align: right;\n",
       "    }\n",
       "</style>\n",
       "<table border=\"1\" class=\"dataframe\">\n",
       "  <thead>\n",
       "    <tr style=\"text-align: right;\">\n",
       "      <th></th>\n",
       "      <th>Topic Names</th>\n",
       "      <th>Topic Urls</th>\n",
       "      <th>Topic Description</th>\n",
       "      <th>Followers</th>\n",
       "      <th>Active</th>\n",
       "      <th>Created Date</th>\n",
       "    </tr>\n",
       "  </thead>\n",
       "  <tbody>\n",
       "    <tr>\n",
       "      <th>0</th>\n",
       "      <td>AskReddit</td>\n",
       "      <td>https://www.reddit.com/r/AskReddit/</td>\n",
       "      <td>r/AskReddit is the place to ask and answer tho...</td>\n",
       "      <td>34.5m</td>\n",
       "      <td>70.6k</td>\n",
       "      <td>Jan 25, 2008</td>\n",
       "    </tr>\n",
       "    <tr>\n",
       "      <th>1</th>\n",
       "      <td>NoStupidQuestions</td>\n",
       "      <td>https://www.reddit.com/r/NoStupidQuestions/</td>\n",
       "      <td>Ask away!</td>\n",
       "      <td>2.5m</td>\n",
       "      <td>14.2k</td>\n",
       "      <td>Feb 2, 2013</td>\n",
       "    </tr>\n",
       "    <tr>\n",
       "      <th>2</th>\n",
       "      <td>DestinyTheGame</td>\n",
       "      <td>https://www.reddit.com/r/DestinyTheGame/</td>\n",
       "      <td></td>\n",
       "      <td></td>\n",
       "      <td></td>\n",
       "      <td></td>\n",
       "    </tr>\n",
       "    <tr>\n",
       "      <th>3</th>\n",
       "      <td>explainlikeimfive</td>\n",
       "      <td>https://www.reddit.com/r/explainlikeimfive/</td>\n",
       "      <td></td>\n",
       "      <td></td>\n",
       "      <td></td>\n",
       "      <td></td>\n",
       "    </tr>\n",
       "    <tr>\n",
       "      <th>4</th>\n",
       "      <td>AskMen</td>\n",
       "      <td>https://www.reddit.com/r/AskMen/</td>\n",
       "      <td>It's time to stop.</td>\n",
       "      <td>3.2m</td>\n",
       "      <td>9.9k</td>\n",
       "      <td>Aug 30, 2010</td>\n",
       "    </tr>\n",
       "    <tr>\n",
       "      <th>...</th>\n",
       "      <td>...</td>\n",
       "      <td>...</td>\n",
       "      <td>...</td>\n",
       "      <td>...</td>\n",
       "      <td>...</td>\n",
       "      <td>...</td>\n",
       "    </tr>\n",
       "    <tr>\n",
       "      <th>554</th>\n",
       "      <td>Youniqueamua</td>\n",
       "      <td>https://www.reddit.com/r/Youniqueamua/</td>\n",
       "      <td>The horrors of multi-level marketing \"makeup\" ...</td>\n",
       "      <td>140k</td>\n",
       "      <td>27</td>\n",
       "      <td>Jul 27, 2017</td>\n",
       "    </tr>\n",
       "    <tr>\n",
       "      <th>555</th>\n",
       "      <td>sneakermarket</td>\n",
       "      <td>https://www.reddit.com/r/sneakermarket/</td>\n",
       "      <td>Confused on how to buy/sell/trade your sneaker...</td>\n",
       "      <td>166k</td>\n",
       "      <td>203</td>\n",
       "      <td>Aug 26, 2011</td>\n",
       "    </tr>\n",
       "    <tr>\n",
       "      <th>556</th>\n",
       "      <td>SarahSnark</td>\n",
       "      <td>https://www.reddit.com/r/SarahSnark/</td>\n",
       "      <td></td>\n",
       "      <td></td>\n",
       "      <td></td>\n",
       "      <td></td>\n",
       "    </tr>\n",
       "    <tr>\n",
       "      <th>557</th>\n",
       "      <td>RepLadiesBST</td>\n",
       "      <td>https://www.reddit.com/r/RepLadiesBST/</td>\n",
       "      <td>A marketplace dedicated to selling, purchasing...</td>\n",
       "      <td>51.5k</td>\n",
       "      <td>225</td>\n",
       "      <td>Feb 21, 2018</td>\n",
       "    </tr>\n",
       "    <tr>\n",
       "      <th>558</th>\n",
       "      <td>makeupexchange</td>\n",
       "      <td>https://www.reddit.com/r/makeupexchange/</td>\n",
       "      <td>Welcome back to MUE! Please make sure to read ...</td>\n",
       "      <td>286k</td>\n",
       "      <td>65</td>\n",
       "      <td>Feb 7, 2012</td>\n",
       "    </tr>\n",
       "  </tbody>\n",
       "</table>\n",
       "<p>559 rows × 6 columns</p>\n",
       "</div>"
      ],
      "text/plain": [
       "           Topic Names                                   Topic Urls  \\\n",
       "0            AskReddit          https://www.reddit.com/r/AskReddit/   \n",
       "1    NoStupidQuestions  https://www.reddit.com/r/NoStupidQuestions/   \n",
       "2       DestinyTheGame     https://www.reddit.com/r/DestinyTheGame/   \n",
       "3    explainlikeimfive  https://www.reddit.com/r/explainlikeimfive/   \n",
       "4               AskMen             https://www.reddit.com/r/AskMen/   \n",
       "..                 ...                                          ...   \n",
       "554       Youniqueamua       https://www.reddit.com/r/Youniqueamua/   \n",
       "555      sneakermarket      https://www.reddit.com/r/sneakermarket/   \n",
       "556         SarahSnark         https://www.reddit.com/r/SarahSnark/   \n",
       "557       RepLadiesBST       https://www.reddit.com/r/RepLadiesBST/   \n",
       "558     makeupexchange     https://www.reddit.com/r/makeupexchange/   \n",
       "\n",
       "                                     Topic Description Followers Active  \\\n",
       "0    r/AskReddit is the place to ask and answer tho...     34.5m  70.6k   \n",
       "1                                            Ask away!      2.5m  14.2k   \n",
       "2                                                                         \n",
       "3                                                                         \n",
       "4                                   It's time to stop.      3.2m   9.9k   \n",
       "..                                                 ...       ...    ...   \n",
       "554  The horrors of multi-level marketing \"makeup\" ...      140k     27   \n",
       "555  Confused on how to buy/sell/trade your sneaker...      166k    203   \n",
       "556                                                                       \n",
       "557  A marketplace dedicated to selling, purchasing...     51.5k    225   \n",
       "558  Welcome back to MUE! Please make sure to read ...      286k     65   \n",
       "\n",
       "     Created Date  \n",
       "0    Jan 25, 2008  \n",
       "1     Feb 2, 2013  \n",
       "2                  \n",
       "3                  \n",
       "4    Aug 30, 2010  \n",
       "..            ...  \n",
       "554  Jul 27, 2017  \n",
       "555  Aug 26, 2011  \n",
       "556                \n",
       "557  Feb 21, 2018  \n",
       "558   Feb 7, 2012  \n",
       "\n",
       "[559 rows x 6 columns]"
      ]
     },
     "execution_count": 24,
     "metadata": {},
     "output_type": "execute_result"
    }
   ],
   "source": [
    "df"
   ]
  },
  {
   "cell_type": "markdown",
   "id": "a611e5a8",
   "metadata": {},
   "source": [
    "### Saving the data into a CSV"
   ]
  },
  {
   "cell_type": "code",
   "execution_count": 25,
   "id": "d8f1b4f5",
   "metadata": {},
   "outputs": [],
   "source": [
    "df.to_csv('PagesDetailsOnReddit.csv',index=None)"
   ]
  },
  {
   "cell_type": "code",
   "execution_count": 26,
   "id": "82057eaf",
   "metadata": {},
   "outputs": [],
   "source": [
    "driver.quit()"
   ]
  }
 ],
 "metadata": {
  "kernelspec": {
   "display_name": "Python 3 (ipykernel)",
   "language": "python",
   "name": "python3"
  },
  "language_info": {
   "codemirror_mode": {
    "name": "ipython",
    "version": 3
   },
   "file_extension": ".py",
   "mimetype": "text/x-python",
   "name": "python",
   "nbconvert_exporter": "python",
   "pygments_lexer": "ipython3",
   "version": "3.9.7"
  }
 },
 "nbformat": 4,
 "nbformat_minor": 5
}
